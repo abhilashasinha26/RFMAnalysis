{
  "nbformat": 4,
  "nbformat_minor": 0,
  "metadata": {
    "colab": {
      "provenance": []
    },
    "kernelspec": {
      "name": "python3",
      "display_name": "Python 3"
    },
    "language_info": {
      "name": "python"
    }
  },
  "cells": [
    {
      "cell_type": "markdown",
      "source": [
        "# This project is to find out how to segment a market and develop a targeting strategy using RFM analysis"
      ],
      "metadata": {
        "id": "Q1yqKoC2au-G"
      }
    },
    {
      "cell_type": "code",
      "execution_count": 1,
      "metadata": {
        "id": "qdCv4qO3MYAx"
      },
      "outputs": [],
      "source": [
        "import pandas as pd"
      ]
    },
    {
      "cell_type": "code",
      "source": [
        "import matplotlib.pyplot as plt\n"
      ],
      "metadata": {
        "id": "scs_8VLyMnyg"
      },
      "execution_count": 61,
      "outputs": []
    },
    {
      "cell_type": "code",
      "source": [
        "import seaborn as sns"
      ],
      "metadata": {
        "id": "FCBRRUbFMsO2"
      },
      "execution_count": 3,
      "outputs": []
    },
    {
      "cell_type": "code",
      "source": [
        "data_df = pd.read_csv('/content/TuscanDataForRFMAnalysis.csv')"
      ],
      "metadata": {
        "id": "9WYAj-alMv18"
      },
      "execution_count": 44,
      "outputs": []
    },
    {
      "cell_type": "code",
      "source": [
        "data_df.head()"
      ],
      "metadata": {
        "colab": {
          "base_uri": "https://localhost:8080/",
          "height": 206
        },
        "id": "ChAz6-LRM26i",
        "outputId": "29ff3f23-e043-41a9-b062-3db55d2ebac1"
      },
      "execution_count": 45,
      "outputs": [
        {
          "output_type": "execute_result",
          "data": {
            "text/plain": [
              "   Unnamed: 0  numords  totdol  last buyer  buyerdummy  dollars\n",
              "0           1        7     493   207    no           0        0\n",
              "1           2        4     423   625    no           0        0\n",
              "2           3        4     246    28    no           0        0\n",
              "3           4        3     271   778    no           0        0\n",
              "4           5        2     148   396    no           0        0"
            ],
            "text/html": [
              "\n",
              "  <div id=\"df-e150f073-7287-40fd-a35b-22d7cc303f00\" class=\"colab-df-container\">\n",
              "    <div>\n",
              "<style scoped>\n",
              "    .dataframe tbody tr th:only-of-type {\n",
              "        vertical-align: middle;\n",
              "    }\n",
              "\n",
              "    .dataframe tbody tr th {\n",
              "        vertical-align: top;\n",
              "    }\n",
              "\n",
              "    .dataframe thead th {\n",
              "        text-align: right;\n",
              "    }\n",
              "</style>\n",
              "<table border=\"1\" class=\"dataframe\">\n",
              "  <thead>\n",
              "    <tr style=\"text-align: right;\">\n",
              "      <th></th>\n",
              "      <th>Unnamed: 0</th>\n",
              "      <th>numords</th>\n",
              "      <th>totdol</th>\n",
              "      <th>last</th>\n",
              "      <th>buyer</th>\n",
              "      <th>buyerdummy</th>\n",
              "      <th>dollars</th>\n",
              "    </tr>\n",
              "  </thead>\n",
              "  <tbody>\n",
              "    <tr>\n",
              "      <th>0</th>\n",
              "      <td>1</td>\n",
              "      <td>7</td>\n",
              "      <td>493</td>\n",
              "      <td>207</td>\n",
              "      <td>no</td>\n",
              "      <td>0</td>\n",
              "      <td>0</td>\n",
              "    </tr>\n",
              "    <tr>\n",
              "      <th>1</th>\n",
              "      <td>2</td>\n",
              "      <td>4</td>\n",
              "      <td>423</td>\n",
              "      <td>625</td>\n",
              "      <td>no</td>\n",
              "      <td>0</td>\n",
              "      <td>0</td>\n",
              "    </tr>\n",
              "    <tr>\n",
              "      <th>2</th>\n",
              "      <td>3</td>\n",
              "      <td>4</td>\n",
              "      <td>246</td>\n",
              "      <td>28</td>\n",
              "      <td>no</td>\n",
              "      <td>0</td>\n",
              "      <td>0</td>\n",
              "    </tr>\n",
              "    <tr>\n",
              "      <th>3</th>\n",
              "      <td>4</td>\n",
              "      <td>3</td>\n",
              "      <td>271</td>\n",
              "      <td>778</td>\n",
              "      <td>no</td>\n",
              "      <td>0</td>\n",
              "      <td>0</td>\n",
              "    </tr>\n",
              "    <tr>\n",
              "      <th>4</th>\n",
              "      <td>5</td>\n",
              "      <td>2</td>\n",
              "      <td>148</td>\n",
              "      <td>396</td>\n",
              "      <td>no</td>\n",
              "      <td>0</td>\n",
              "      <td>0</td>\n",
              "    </tr>\n",
              "  </tbody>\n",
              "</table>\n",
              "</div>\n",
              "    <div class=\"colab-df-buttons\">\n",
              "\n",
              "  <div class=\"colab-df-container\">\n",
              "    <button class=\"colab-df-convert\" onclick=\"convertToInteractive('df-e150f073-7287-40fd-a35b-22d7cc303f00')\"\n",
              "            title=\"Convert this dataframe to an interactive table.\"\n",
              "            style=\"display:none;\">\n",
              "\n",
              "  <svg xmlns=\"http://www.w3.org/2000/svg\" height=\"24px\" viewBox=\"0 -960 960 960\">\n",
              "    <path d=\"M120-120v-720h720v720H120Zm60-500h600v-160H180v160Zm220 220h160v-160H400v160Zm0 220h160v-160H400v160ZM180-400h160v-160H180v160Zm440 0h160v-160H620v160ZM180-180h160v-160H180v160Zm440 0h160v-160H620v160Z\"/>\n",
              "  </svg>\n",
              "    </button>\n",
              "\n",
              "  <style>\n",
              "    .colab-df-container {\n",
              "      display:flex;\n",
              "      gap: 12px;\n",
              "    }\n",
              "\n",
              "    .colab-df-convert {\n",
              "      background-color: #E8F0FE;\n",
              "      border: none;\n",
              "      border-radius: 50%;\n",
              "      cursor: pointer;\n",
              "      display: none;\n",
              "      fill: #1967D2;\n",
              "      height: 32px;\n",
              "      padding: 0 0 0 0;\n",
              "      width: 32px;\n",
              "    }\n",
              "\n",
              "    .colab-df-convert:hover {\n",
              "      background-color: #E2EBFA;\n",
              "      box-shadow: 0px 1px 2px rgba(60, 64, 67, 0.3), 0px 1px 3px 1px rgba(60, 64, 67, 0.15);\n",
              "      fill: #174EA6;\n",
              "    }\n",
              "\n",
              "    .colab-df-buttons div {\n",
              "      margin-bottom: 4px;\n",
              "    }\n",
              "\n",
              "    [theme=dark] .colab-df-convert {\n",
              "      background-color: #3B4455;\n",
              "      fill: #D2E3FC;\n",
              "    }\n",
              "\n",
              "    [theme=dark] .colab-df-convert:hover {\n",
              "      background-color: #434B5C;\n",
              "      box-shadow: 0px 1px 3px 1px rgba(0, 0, 0, 0.15);\n",
              "      filter: drop-shadow(0px 1px 2px rgba(0, 0, 0, 0.3));\n",
              "      fill: #FFFFFF;\n",
              "    }\n",
              "  </style>\n",
              "\n",
              "    <script>\n",
              "      const buttonEl =\n",
              "        document.querySelector('#df-e150f073-7287-40fd-a35b-22d7cc303f00 button.colab-df-convert');\n",
              "      buttonEl.style.display =\n",
              "        google.colab.kernel.accessAllowed ? 'block' : 'none';\n",
              "\n",
              "      async function convertToInteractive(key) {\n",
              "        const element = document.querySelector('#df-e150f073-7287-40fd-a35b-22d7cc303f00');\n",
              "        const dataTable =\n",
              "          await google.colab.kernel.invokeFunction('convertToInteractive',\n",
              "                                                    [key], {});\n",
              "        if (!dataTable) return;\n",
              "\n",
              "        const docLinkHtml = 'Like what you see? Visit the ' +\n",
              "          '<a target=\"_blank\" href=https://colab.research.google.com/notebooks/data_table.ipynb>data table notebook</a>'\n",
              "          + ' to learn more about interactive tables.';\n",
              "        element.innerHTML = '';\n",
              "        dataTable['output_type'] = 'display_data';\n",
              "        await google.colab.output.renderOutput(dataTable, element);\n",
              "        const docLink = document.createElement('div');\n",
              "        docLink.innerHTML = docLinkHtml;\n",
              "        element.appendChild(docLink);\n",
              "      }\n",
              "    </script>\n",
              "  </div>\n",
              "\n",
              "\n",
              "<div id=\"df-d28e2b1a-8416-4aed-a626-e90b7175b4a2\">\n",
              "  <button class=\"colab-df-quickchart\" onclick=\"quickchart('df-d28e2b1a-8416-4aed-a626-e90b7175b4a2')\"\n",
              "            title=\"Suggest charts\"\n",
              "            style=\"display:none;\">\n",
              "\n",
              "<svg xmlns=\"http://www.w3.org/2000/svg\" height=\"24px\"viewBox=\"0 0 24 24\"\n",
              "     width=\"24px\">\n",
              "    <g>\n",
              "        <path d=\"M19 3H5c-1.1 0-2 .9-2 2v14c0 1.1.9 2 2 2h14c1.1 0 2-.9 2-2V5c0-1.1-.9-2-2-2zM9 17H7v-7h2v7zm4 0h-2V7h2v10zm4 0h-2v-4h2v4z\"/>\n",
              "    </g>\n",
              "</svg>\n",
              "  </button>\n",
              "\n",
              "<style>\n",
              "  .colab-df-quickchart {\n",
              "      --bg-color: #E8F0FE;\n",
              "      --fill-color: #1967D2;\n",
              "      --hover-bg-color: #E2EBFA;\n",
              "      --hover-fill-color: #174EA6;\n",
              "      --disabled-fill-color: #AAA;\n",
              "      --disabled-bg-color: #DDD;\n",
              "  }\n",
              "\n",
              "  [theme=dark] .colab-df-quickchart {\n",
              "      --bg-color: #3B4455;\n",
              "      --fill-color: #D2E3FC;\n",
              "      --hover-bg-color: #434B5C;\n",
              "      --hover-fill-color: #FFFFFF;\n",
              "      --disabled-bg-color: #3B4455;\n",
              "      --disabled-fill-color: #666;\n",
              "  }\n",
              "\n",
              "  .colab-df-quickchart {\n",
              "    background-color: var(--bg-color);\n",
              "    border: none;\n",
              "    border-radius: 50%;\n",
              "    cursor: pointer;\n",
              "    display: none;\n",
              "    fill: var(--fill-color);\n",
              "    height: 32px;\n",
              "    padding: 0;\n",
              "    width: 32px;\n",
              "  }\n",
              "\n",
              "  .colab-df-quickchart:hover {\n",
              "    background-color: var(--hover-bg-color);\n",
              "    box-shadow: 0 1px 2px rgba(60, 64, 67, 0.3), 0 1px 3px 1px rgba(60, 64, 67, 0.15);\n",
              "    fill: var(--button-hover-fill-color);\n",
              "  }\n",
              "\n",
              "  .colab-df-quickchart-complete:disabled,\n",
              "  .colab-df-quickchart-complete:disabled:hover {\n",
              "    background-color: var(--disabled-bg-color);\n",
              "    fill: var(--disabled-fill-color);\n",
              "    box-shadow: none;\n",
              "  }\n",
              "\n",
              "  .colab-df-spinner {\n",
              "    border: 2px solid var(--fill-color);\n",
              "    border-color: transparent;\n",
              "    border-bottom-color: var(--fill-color);\n",
              "    animation:\n",
              "      spin 1s steps(1) infinite;\n",
              "  }\n",
              "\n",
              "  @keyframes spin {\n",
              "    0% {\n",
              "      border-color: transparent;\n",
              "      border-bottom-color: var(--fill-color);\n",
              "      border-left-color: var(--fill-color);\n",
              "    }\n",
              "    20% {\n",
              "      border-color: transparent;\n",
              "      border-left-color: var(--fill-color);\n",
              "      border-top-color: var(--fill-color);\n",
              "    }\n",
              "    30% {\n",
              "      border-color: transparent;\n",
              "      border-left-color: var(--fill-color);\n",
              "      border-top-color: var(--fill-color);\n",
              "      border-right-color: var(--fill-color);\n",
              "    }\n",
              "    40% {\n",
              "      border-color: transparent;\n",
              "      border-right-color: var(--fill-color);\n",
              "      border-top-color: var(--fill-color);\n",
              "    }\n",
              "    60% {\n",
              "      border-color: transparent;\n",
              "      border-right-color: var(--fill-color);\n",
              "    }\n",
              "    80% {\n",
              "      border-color: transparent;\n",
              "      border-right-color: var(--fill-color);\n",
              "      border-bottom-color: var(--fill-color);\n",
              "    }\n",
              "    90% {\n",
              "      border-color: transparent;\n",
              "      border-bottom-color: var(--fill-color);\n",
              "    }\n",
              "  }\n",
              "</style>\n",
              "\n",
              "  <script>\n",
              "    async function quickchart(key) {\n",
              "      const quickchartButtonEl =\n",
              "        document.querySelector('#' + key + ' button');\n",
              "      quickchartButtonEl.disabled = true;  // To prevent multiple clicks.\n",
              "      quickchartButtonEl.classList.add('colab-df-spinner');\n",
              "      try {\n",
              "        const charts = await google.colab.kernel.invokeFunction(\n",
              "            'suggestCharts', [key], {});\n",
              "      } catch (error) {\n",
              "        console.error('Error during call to suggestCharts:', error);\n",
              "      }\n",
              "      quickchartButtonEl.classList.remove('colab-df-spinner');\n",
              "      quickchartButtonEl.classList.add('colab-df-quickchart-complete');\n",
              "    }\n",
              "    (() => {\n",
              "      let quickchartButtonEl =\n",
              "        document.querySelector('#df-d28e2b1a-8416-4aed-a626-e90b7175b4a2 button');\n",
              "      quickchartButtonEl.style.display =\n",
              "        google.colab.kernel.accessAllowed ? 'block' : 'none';\n",
              "    })();\n",
              "  </script>\n",
              "</div>\n",
              "\n",
              "    </div>\n",
              "  </div>\n"
            ],
            "application/vnd.google.colaboratory.intrinsic+json": {
              "type": "dataframe",
              "variable_name": "data_df",
              "summary": "{\n  \"name\": \"data_df\",\n  \"rows\": 96551,\n  \"fields\": [\n    {\n      \"column\": \"Unnamed: 0\",\n      \"properties\": {\n        \"dtype\": \"number\",\n        \"std\": 27872,\n        \"min\": 1,\n        \"max\": 96551,\n        \"num_unique_values\": 96551,\n        \"samples\": [\n          12532,\n          19101,\n          63690\n        ],\n        \"semantic_type\": \"\",\n        \"description\": \"\"\n      }\n    },\n    {\n      \"column\": \"numords\",\n      \"properties\": {\n        \"dtype\": \"number\",\n        \"std\": 7,\n        \"min\": 1,\n        \"max\": 195,\n        \"num_unique_values\": 129,\n        \"samples\": [\n          57,\n          52,\n          35\n        ],\n        \"semantic_type\": \"\",\n        \"description\": \"\"\n      }\n    },\n    {\n      \"column\": \"totdol\",\n      \"properties\": {\n        \"dtype\": \"number\",\n        \"std\": 531,\n        \"min\": 2,\n        \"max\": 21316,\n        \"num_unique_values\": 3110,\n        \"samples\": [\n          280,\n          1326,\n          427\n        ],\n        \"semantic_type\": \"\",\n        \"description\": \"\"\n      }\n    },\n    {\n      \"column\": \"last\",\n      \"properties\": {\n        \"dtype\": \"number\",\n        \"std\": 309,\n        \"min\": 1,\n        \"max\": 3797,\n        \"num_unique_values\": 992,\n        \"samples\": [\n          611,\n          1061,\n          1026\n        ],\n        \"semantic_type\": \"\",\n        \"description\": \"\"\n      }\n    },\n    {\n      \"column\": \"buyer\",\n      \"properties\": {\n        \"dtype\": \"category\",\n        \"num_unique_values\": 2,\n        \"samples\": [\n          \"yes\",\n          \"no\"\n        ],\n        \"semantic_type\": \"\",\n        \"description\": \"\"\n      }\n    },\n    {\n      \"column\": \"buyerdummy\",\n      \"properties\": {\n        \"dtype\": \"number\",\n        \"std\": 0,\n        \"min\": 0,\n        \"max\": 1,\n        \"num_unique_values\": 2,\n        \"samples\": [\n          1,\n          0\n        ],\n        \"semantic_type\": \"\",\n        \"description\": \"\"\n      }\n    },\n    {\n      \"column\": \"dollars\",\n      \"properties\": {\n        \"dtype\": \"number\",\n        \"std\": 29,\n        \"min\": 0,\n        \"max\": 6249,\n        \"num_unique_values\": 325,\n        \"samples\": [\n          271,\n          53\n        ],\n        \"semantic_type\": \"\",\n        \"description\": \"\"\n      }\n    }\n  ]\n}"
            }
          },
          "metadata": {},
          "execution_count": 45
        }
      ]
    },
    {
      "cell_type": "code",
      "source": [
        "data_df.shape"
      ],
      "metadata": {
        "colab": {
          "base_uri": "https://localhost:8080/"
        },
        "id": "Kgc564p-M5QD",
        "outputId": "3b04b400-6e5e-4f7e-d397-86fe39c5efd9"
      },
      "execution_count": 6,
      "outputs": [
        {
          "output_type": "execute_result",
          "data": {
            "text/plain": [
              "(96551, 7)"
            ]
          },
          "metadata": {},
          "execution_count": 6
        }
      ]
    },
    {
      "cell_type": "code",
      "source": [
        "data_df['buyerdummy'] = pd.to_numeric(data_df['buyerdummy'], errors='coerce')\n",
        "data_df['dollars'] = pd.to_numeric(data_df['dollars'], errors='coerce')\n",
        "data_df['last'] = pd.to_numeric(data_df['last'], errors='coerce')\n",
        "data_df['numords'] = pd.to_numeric(data_df['numords'], errors='coerce')\n",
        "data_df['totdol'] = pd.to_numeric(data_df['totdol'], errors='coerce')"
      ],
      "metadata": {
        "id": "Aphay4Doi30u"
      },
      "execution_count": 46,
      "outputs": []
    },
    {
      "cell_type": "markdown",
      "source": [
        "**What percentage of customers bought from the test catalogue?**\n"
      ],
      "metadata": {
        "id": "EmCI2ti6dU1B"
      }
    },
    {
      "cell_type": "code",
      "source": [
        "purchase_df= data_df[data_df['buyerdummy']==1]"
      ],
      "metadata": {
        "id": "SBpVmk7YdUOw"
      },
      "execution_count": 47,
      "outputs": []
    },
    {
      "cell_type": "code",
      "source": [
        "purchase_df.head()"
      ],
      "metadata": {
        "colab": {
          "base_uri": "https://localhost:8080/",
          "height": 206
        },
        "id": "FKp6MPL4M-hZ",
        "outputId": "6dd53037-0013-47ef-f347-aae8fc03b277"
      },
      "execution_count": 48,
      "outputs": [
        {
          "output_type": "execute_result",
          "data": {
            "text/plain": [
              "       Unnamed: 0  numords  totdol  last buyer  buyerdummy  dollars\n",
              "94180         102        1      15    95   yes           1       20\n",
              "94181         104        8     556   309   yes           1       86\n",
              "94182         260        7     606     4   yes           1       70\n",
              "94183         279        2      98    57   yes           1      140\n",
              "94184         284        2     173     4   yes           1      136"
            ],
            "text/html": [
              "\n",
              "  <div id=\"df-2a9d1829-c1b8-4e54-96cb-0425dc2adfeb\" class=\"colab-df-container\">\n",
              "    <div>\n",
              "<style scoped>\n",
              "    .dataframe tbody tr th:only-of-type {\n",
              "        vertical-align: middle;\n",
              "    }\n",
              "\n",
              "    .dataframe tbody tr th {\n",
              "        vertical-align: top;\n",
              "    }\n",
              "\n",
              "    .dataframe thead th {\n",
              "        text-align: right;\n",
              "    }\n",
              "</style>\n",
              "<table border=\"1\" class=\"dataframe\">\n",
              "  <thead>\n",
              "    <tr style=\"text-align: right;\">\n",
              "      <th></th>\n",
              "      <th>Unnamed: 0</th>\n",
              "      <th>numords</th>\n",
              "      <th>totdol</th>\n",
              "      <th>last</th>\n",
              "      <th>buyer</th>\n",
              "      <th>buyerdummy</th>\n",
              "      <th>dollars</th>\n",
              "    </tr>\n",
              "  </thead>\n",
              "  <tbody>\n",
              "    <tr>\n",
              "      <th>94180</th>\n",
              "      <td>102</td>\n",
              "      <td>1</td>\n",
              "      <td>15</td>\n",
              "      <td>95</td>\n",
              "      <td>yes</td>\n",
              "      <td>1</td>\n",
              "      <td>20</td>\n",
              "    </tr>\n",
              "    <tr>\n",
              "      <th>94181</th>\n",
              "      <td>104</td>\n",
              "      <td>8</td>\n",
              "      <td>556</td>\n",
              "      <td>309</td>\n",
              "      <td>yes</td>\n",
              "      <td>1</td>\n",
              "      <td>86</td>\n",
              "    </tr>\n",
              "    <tr>\n",
              "      <th>94182</th>\n",
              "      <td>260</td>\n",
              "      <td>7</td>\n",
              "      <td>606</td>\n",
              "      <td>4</td>\n",
              "      <td>yes</td>\n",
              "      <td>1</td>\n",
              "      <td>70</td>\n",
              "    </tr>\n",
              "    <tr>\n",
              "      <th>94183</th>\n",
              "      <td>279</td>\n",
              "      <td>2</td>\n",
              "      <td>98</td>\n",
              "      <td>57</td>\n",
              "      <td>yes</td>\n",
              "      <td>1</td>\n",
              "      <td>140</td>\n",
              "    </tr>\n",
              "    <tr>\n",
              "      <th>94184</th>\n",
              "      <td>284</td>\n",
              "      <td>2</td>\n",
              "      <td>173</td>\n",
              "      <td>4</td>\n",
              "      <td>yes</td>\n",
              "      <td>1</td>\n",
              "      <td>136</td>\n",
              "    </tr>\n",
              "  </tbody>\n",
              "</table>\n",
              "</div>\n",
              "    <div class=\"colab-df-buttons\">\n",
              "\n",
              "  <div class=\"colab-df-container\">\n",
              "    <button class=\"colab-df-convert\" onclick=\"convertToInteractive('df-2a9d1829-c1b8-4e54-96cb-0425dc2adfeb')\"\n",
              "            title=\"Convert this dataframe to an interactive table.\"\n",
              "            style=\"display:none;\">\n",
              "\n",
              "  <svg xmlns=\"http://www.w3.org/2000/svg\" height=\"24px\" viewBox=\"0 -960 960 960\">\n",
              "    <path d=\"M120-120v-720h720v720H120Zm60-500h600v-160H180v160Zm220 220h160v-160H400v160Zm0 220h160v-160H400v160ZM180-400h160v-160H180v160Zm440 0h160v-160H620v160ZM180-180h160v-160H180v160Zm440 0h160v-160H620v160Z\"/>\n",
              "  </svg>\n",
              "    </button>\n",
              "\n",
              "  <style>\n",
              "    .colab-df-container {\n",
              "      display:flex;\n",
              "      gap: 12px;\n",
              "    }\n",
              "\n",
              "    .colab-df-convert {\n",
              "      background-color: #E8F0FE;\n",
              "      border: none;\n",
              "      border-radius: 50%;\n",
              "      cursor: pointer;\n",
              "      display: none;\n",
              "      fill: #1967D2;\n",
              "      height: 32px;\n",
              "      padding: 0 0 0 0;\n",
              "      width: 32px;\n",
              "    }\n",
              "\n",
              "    .colab-df-convert:hover {\n",
              "      background-color: #E2EBFA;\n",
              "      box-shadow: 0px 1px 2px rgba(60, 64, 67, 0.3), 0px 1px 3px 1px rgba(60, 64, 67, 0.15);\n",
              "      fill: #174EA6;\n",
              "    }\n",
              "\n",
              "    .colab-df-buttons div {\n",
              "      margin-bottom: 4px;\n",
              "    }\n",
              "\n",
              "    [theme=dark] .colab-df-convert {\n",
              "      background-color: #3B4455;\n",
              "      fill: #D2E3FC;\n",
              "    }\n",
              "\n",
              "    [theme=dark] .colab-df-convert:hover {\n",
              "      background-color: #434B5C;\n",
              "      box-shadow: 0px 1px 3px 1px rgba(0, 0, 0, 0.15);\n",
              "      filter: drop-shadow(0px 1px 2px rgba(0, 0, 0, 0.3));\n",
              "      fill: #FFFFFF;\n",
              "    }\n",
              "  </style>\n",
              "\n",
              "    <script>\n",
              "      const buttonEl =\n",
              "        document.querySelector('#df-2a9d1829-c1b8-4e54-96cb-0425dc2adfeb button.colab-df-convert');\n",
              "      buttonEl.style.display =\n",
              "        google.colab.kernel.accessAllowed ? 'block' : 'none';\n",
              "\n",
              "      async function convertToInteractive(key) {\n",
              "        const element = document.querySelector('#df-2a9d1829-c1b8-4e54-96cb-0425dc2adfeb');\n",
              "        const dataTable =\n",
              "          await google.colab.kernel.invokeFunction('convertToInteractive',\n",
              "                                                    [key], {});\n",
              "        if (!dataTable) return;\n",
              "\n",
              "        const docLinkHtml = 'Like what you see? Visit the ' +\n",
              "          '<a target=\"_blank\" href=https://colab.research.google.com/notebooks/data_table.ipynb>data table notebook</a>'\n",
              "          + ' to learn more about interactive tables.';\n",
              "        element.innerHTML = '';\n",
              "        dataTable['output_type'] = 'display_data';\n",
              "        await google.colab.output.renderOutput(dataTable, element);\n",
              "        const docLink = document.createElement('div');\n",
              "        docLink.innerHTML = docLinkHtml;\n",
              "        element.appendChild(docLink);\n",
              "      }\n",
              "    </script>\n",
              "  </div>\n",
              "\n",
              "\n",
              "<div id=\"df-e7338640-c9e8-48d8-a460-7dbe9f107e3a\">\n",
              "  <button class=\"colab-df-quickchart\" onclick=\"quickchart('df-e7338640-c9e8-48d8-a460-7dbe9f107e3a')\"\n",
              "            title=\"Suggest charts\"\n",
              "            style=\"display:none;\">\n",
              "\n",
              "<svg xmlns=\"http://www.w3.org/2000/svg\" height=\"24px\"viewBox=\"0 0 24 24\"\n",
              "     width=\"24px\">\n",
              "    <g>\n",
              "        <path d=\"M19 3H5c-1.1 0-2 .9-2 2v14c0 1.1.9 2 2 2h14c1.1 0 2-.9 2-2V5c0-1.1-.9-2-2-2zM9 17H7v-7h2v7zm4 0h-2V7h2v10zm4 0h-2v-4h2v4z\"/>\n",
              "    </g>\n",
              "</svg>\n",
              "  </button>\n",
              "\n",
              "<style>\n",
              "  .colab-df-quickchart {\n",
              "      --bg-color: #E8F0FE;\n",
              "      --fill-color: #1967D2;\n",
              "      --hover-bg-color: #E2EBFA;\n",
              "      --hover-fill-color: #174EA6;\n",
              "      --disabled-fill-color: #AAA;\n",
              "      --disabled-bg-color: #DDD;\n",
              "  }\n",
              "\n",
              "  [theme=dark] .colab-df-quickchart {\n",
              "      --bg-color: #3B4455;\n",
              "      --fill-color: #D2E3FC;\n",
              "      --hover-bg-color: #434B5C;\n",
              "      --hover-fill-color: #FFFFFF;\n",
              "      --disabled-bg-color: #3B4455;\n",
              "      --disabled-fill-color: #666;\n",
              "  }\n",
              "\n",
              "  .colab-df-quickchart {\n",
              "    background-color: var(--bg-color);\n",
              "    border: none;\n",
              "    border-radius: 50%;\n",
              "    cursor: pointer;\n",
              "    display: none;\n",
              "    fill: var(--fill-color);\n",
              "    height: 32px;\n",
              "    padding: 0;\n",
              "    width: 32px;\n",
              "  }\n",
              "\n",
              "  .colab-df-quickchart:hover {\n",
              "    background-color: var(--hover-bg-color);\n",
              "    box-shadow: 0 1px 2px rgba(60, 64, 67, 0.3), 0 1px 3px 1px rgba(60, 64, 67, 0.15);\n",
              "    fill: var(--button-hover-fill-color);\n",
              "  }\n",
              "\n",
              "  .colab-df-quickchart-complete:disabled,\n",
              "  .colab-df-quickchart-complete:disabled:hover {\n",
              "    background-color: var(--disabled-bg-color);\n",
              "    fill: var(--disabled-fill-color);\n",
              "    box-shadow: none;\n",
              "  }\n",
              "\n",
              "  .colab-df-spinner {\n",
              "    border: 2px solid var(--fill-color);\n",
              "    border-color: transparent;\n",
              "    border-bottom-color: var(--fill-color);\n",
              "    animation:\n",
              "      spin 1s steps(1) infinite;\n",
              "  }\n",
              "\n",
              "  @keyframes spin {\n",
              "    0% {\n",
              "      border-color: transparent;\n",
              "      border-bottom-color: var(--fill-color);\n",
              "      border-left-color: var(--fill-color);\n",
              "    }\n",
              "    20% {\n",
              "      border-color: transparent;\n",
              "      border-left-color: var(--fill-color);\n",
              "      border-top-color: var(--fill-color);\n",
              "    }\n",
              "    30% {\n",
              "      border-color: transparent;\n",
              "      border-left-color: var(--fill-color);\n",
              "      border-top-color: var(--fill-color);\n",
              "      border-right-color: var(--fill-color);\n",
              "    }\n",
              "    40% {\n",
              "      border-color: transparent;\n",
              "      border-right-color: var(--fill-color);\n",
              "      border-top-color: var(--fill-color);\n",
              "    }\n",
              "    60% {\n",
              "      border-color: transparent;\n",
              "      border-right-color: var(--fill-color);\n",
              "    }\n",
              "    80% {\n",
              "      border-color: transparent;\n",
              "      border-right-color: var(--fill-color);\n",
              "      border-bottom-color: var(--fill-color);\n",
              "    }\n",
              "    90% {\n",
              "      border-color: transparent;\n",
              "      border-bottom-color: var(--fill-color);\n",
              "    }\n",
              "  }\n",
              "</style>\n",
              "\n",
              "  <script>\n",
              "    async function quickchart(key) {\n",
              "      const quickchartButtonEl =\n",
              "        document.querySelector('#' + key + ' button');\n",
              "      quickchartButtonEl.disabled = true;  // To prevent multiple clicks.\n",
              "      quickchartButtonEl.classList.add('colab-df-spinner');\n",
              "      try {\n",
              "        const charts = await google.colab.kernel.invokeFunction(\n",
              "            'suggestCharts', [key], {});\n",
              "      } catch (error) {\n",
              "        console.error('Error during call to suggestCharts:', error);\n",
              "      }\n",
              "      quickchartButtonEl.classList.remove('colab-df-spinner');\n",
              "      quickchartButtonEl.classList.add('colab-df-quickchart-complete');\n",
              "    }\n",
              "    (() => {\n",
              "      let quickchartButtonEl =\n",
              "        document.querySelector('#df-e7338640-c9e8-48d8-a460-7dbe9f107e3a button');\n",
              "      quickchartButtonEl.style.display =\n",
              "        google.colab.kernel.accessAllowed ? 'block' : 'none';\n",
              "    })();\n",
              "  </script>\n",
              "</div>\n",
              "\n",
              "    </div>\n",
              "  </div>\n"
            ],
            "application/vnd.google.colaboratory.intrinsic+json": {
              "type": "dataframe",
              "variable_name": "purchase_df",
              "summary": "{\n  \"name\": \"purchase_df\",\n  \"rows\": 2371,\n  \"fields\": [\n    {\n      \"column\": \"Unnamed: 0\",\n      \"properties\": {\n        \"dtype\": \"number\",\n        \"std\": 27803,\n        \"min\": 102,\n        \"max\": 96549,\n        \"num_unique_values\": 2371,\n        \"samples\": [\n          32252,\n          63974,\n          3802\n        ],\n        \"semantic_type\": \"\",\n        \"description\": \"\"\n      }\n    },\n    {\n      \"column\": \"numords\",\n      \"properties\": {\n        \"dtype\": \"number\",\n        \"std\": 11,\n        \"min\": 1,\n        \"max\": 141,\n        \"num_unique_values\": 76,\n        \"samples\": [\n          39,\n          55,\n          30\n        ],\n        \"semantic_type\": \"\",\n        \"description\": \"\"\n      }\n    },\n    {\n      \"column\": \"totdol\",\n      \"properties\": {\n        \"dtype\": \"number\",\n        \"std\": 757,\n        \"min\": 8,\n        \"max\": 9858,\n        \"num_unique_values\": 985,\n        \"samples\": [\n          1183,\n          668,\n          2570\n        ],\n        \"semantic_type\": \"\",\n        \"description\": \"\"\n      }\n    },\n    {\n      \"column\": \"last\",\n      \"properties\": {\n        \"dtype\": \"number\",\n        \"std\": 295,\n        \"min\": 1,\n        \"max\": 1863,\n        \"num_unique_values\": 658,\n        \"samples\": [\n          133,\n          899,\n          14\n        ],\n        \"semantic_type\": \"\",\n        \"description\": \"\"\n      }\n    },\n    {\n      \"column\": \"buyer\",\n      \"properties\": {\n        \"dtype\": \"category\",\n        \"num_unique_values\": 1,\n        \"samples\": [\n          \"yes\"\n        ],\n        \"semantic_type\": \"\",\n        \"description\": \"\"\n      }\n    },\n    {\n      \"column\": \"buyerdummy\",\n      \"properties\": {\n        \"dtype\": \"number\",\n        \"std\": 0,\n        \"min\": 1,\n        \"max\": 1,\n        \"num_unique_values\": 1,\n        \"samples\": [\n          1\n        ],\n        \"semantic_type\": \"\",\n        \"description\": \"\"\n      }\n    },\n    {\n      \"column\": \"dollars\",\n      \"properties\": {\n        \"dtype\": \"number\",\n        \"std\": 157,\n        \"min\": 5,\n        \"max\": 6249,\n        \"num_unique_values\": 324,\n        \"samples\": [\n          72\n        ],\n        \"semantic_type\": \"\",\n        \"description\": \"\"\n      }\n    }\n  ]\n}"
            }
          },
          "metadata": {},
          "execution_count": 48
        }
      ]
    },
    {
      "cell_type": "code",
      "source": [
        "purchase_df.shape"
      ],
      "metadata": {
        "colab": {
          "base_uri": "https://localhost:8080/"
        },
        "id": "joDpifYReJvX",
        "outputId": "a51baf88-78b7-452c-8400-a2426c3e8368"
      },
      "execution_count": 49,
      "outputs": [
        {
          "output_type": "execute_result",
          "data": {
            "text/plain": [
              "(2371, 7)"
            ]
          },
          "metadata": {},
          "execution_count": 49
        }
      ]
    },
    {
      "cell_type": "code",
      "source": [
        "percentage_purchase = (purchase_df.shape[0]/data_df.shape[0])*100\n"
      ],
      "metadata": {
        "id": "lFIIm88keOlP"
      },
      "execution_count": 50,
      "outputs": []
    },
    {
      "cell_type": "code",
      "source": [
        "print(f\"percentage_purchase: {percenatge_purchase:.1f}\")"
      ],
      "metadata": {
        "colab": {
          "base_uri": "https://localhost:8080/"
        },
        "id": "1dxWJGWgeZsD",
        "outputId": "01c324b4-8fa5-4f9c-dd9d-09cd9e983283"
      },
      "execution_count": 90,
      "outputs": [
        {
          "output_type": "stream",
          "name": "stdout",
          "text": [
            "percentage_purchase: 2.5\n"
          ]
        }
      ]
    },
    {
      "cell_type": "code",
      "source": [
        "summary_stats = purchase_df['dollars'].describe()"
      ],
      "metadata": {
        "id": "U3QOiAMKhD18"
      },
      "execution_count": 24,
      "outputs": []
    },
    {
      "cell_type": "code",
      "source": [
        "print(summary_stats)"
      ],
      "metadata": {
        "colab": {
          "base_uri": "https://localhost:8080/"
        },
        "id": "CC7maaNDhGfD",
        "outputId": "d04d065d-39e0-4fd2-ed79-b8487c242cf5"
      },
      "execution_count": 25,
      "outputs": [
        {
          "output_type": "stream",
          "name": "stdout",
          "text": [
            "count    2371.000000\n",
            "mean      104.242935\n",
            "std       157.000865\n",
            "min         5.000000\n",
            "25%        40.000000\n",
            "50%        75.000000\n",
            "75%       130.000000\n",
            "max      6249.000000\n",
            "Name: dollars, dtype: float64\n"
          ]
        }
      ]
    },
    {
      "cell_type": "markdown",
      "source": [
        "Create the quintiles for Recency (R), Frequency (F), and Monetary Value (M). Show 5 observations with their R, F, and M values and quintiles"
      ],
      "metadata": {
        "id": "vDGcRt6wgb4c"
      }
    },
    {
      "cell_type": "code",
      "source": [
        "data_df['R_quintile'] = pd.qcut(data_df['last'], 5, labels=[1,2,3,4,5], duplicates='drop')\n",
        "data_df['F_quintile'] = pd.qcut(data_df['numords'], 5, labels=[1, 2, 3, 4], duplicates='drop')\n",
        "data_df['M_quintile'] = pd.qcut(data_df['totdol'], 5, labels=[1, 2, 3, 4, 5],duplicates='drop')\n",
        "data_df[['last', 'numords', 'totdol', 'R_quintile', 'F_quintile', 'M_quintile']].head(5)"
      ],
      "metadata": {
        "colab": {
          "base_uri": "https://localhost:8080/",
          "height": 206
        },
        "id": "g1xp-AvReq0E",
        "outputId": "caf13917-deae-4530-edd7-d35544a3ba4e"
      },
      "execution_count": 92,
      "outputs": [
        {
          "output_type": "execute_result",
          "data": {
            "text/plain": [
              "   last  numords  totdol R_quintile F_quintile M_quintile\n",
              "0   207        7     493          2          4          5\n",
              "1   625        4     423          4          3          4\n",
              "2    28        4     246          1          3          4\n",
              "3   778        3     271          5          2          4\n",
              "4   396        2     148          3          1          3"
            ],
            "text/html": [
              "\n",
              "  <div id=\"df-5d5e5fbd-32ac-43ad-83be-58b9e9d593b0\" class=\"colab-df-container\">\n",
              "    <div>\n",
              "<style scoped>\n",
              "    .dataframe tbody tr th:only-of-type {\n",
              "        vertical-align: middle;\n",
              "    }\n",
              "\n",
              "    .dataframe tbody tr th {\n",
              "        vertical-align: top;\n",
              "    }\n",
              "\n",
              "    .dataframe thead th {\n",
              "        text-align: right;\n",
              "    }\n",
              "</style>\n",
              "<table border=\"1\" class=\"dataframe\">\n",
              "  <thead>\n",
              "    <tr style=\"text-align: right;\">\n",
              "      <th></th>\n",
              "      <th>last</th>\n",
              "      <th>numords</th>\n",
              "      <th>totdol</th>\n",
              "      <th>R_quintile</th>\n",
              "      <th>F_quintile</th>\n",
              "      <th>M_quintile</th>\n",
              "    </tr>\n",
              "  </thead>\n",
              "  <tbody>\n",
              "    <tr>\n",
              "      <th>0</th>\n",
              "      <td>207</td>\n",
              "      <td>7</td>\n",
              "      <td>493</td>\n",
              "      <td>2</td>\n",
              "      <td>4</td>\n",
              "      <td>5</td>\n",
              "    </tr>\n",
              "    <tr>\n",
              "      <th>1</th>\n",
              "      <td>625</td>\n",
              "      <td>4</td>\n",
              "      <td>423</td>\n",
              "      <td>4</td>\n",
              "      <td>3</td>\n",
              "      <td>4</td>\n",
              "    </tr>\n",
              "    <tr>\n",
              "      <th>2</th>\n",
              "      <td>28</td>\n",
              "      <td>4</td>\n",
              "      <td>246</td>\n",
              "      <td>1</td>\n",
              "      <td>3</td>\n",
              "      <td>4</td>\n",
              "    </tr>\n",
              "    <tr>\n",
              "      <th>3</th>\n",
              "      <td>778</td>\n",
              "      <td>3</td>\n",
              "      <td>271</td>\n",
              "      <td>5</td>\n",
              "      <td>2</td>\n",
              "      <td>4</td>\n",
              "    </tr>\n",
              "    <tr>\n",
              "      <th>4</th>\n",
              "      <td>396</td>\n",
              "      <td>2</td>\n",
              "      <td>148</td>\n",
              "      <td>3</td>\n",
              "      <td>1</td>\n",
              "      <td>3</td>\n",
              "    </tr>\n",
              "  </tbody>\n",
              "</table>\n",
              "</div>\n",
              "    <div class=\"colab-df-buttons\">\n",
              "\n",
              "  <div class=\"colab-df-container\">\n",
              "    <button class=\"colab-df-convert\" onclick=\"convertToInteractive('df-5d5e5fbd-32ac-43ad-83be-58b9e9d593b0')\"\n",
              "            title=\"Convert this dataframe to an interactive table.\"\n",
              "            style=\"display:none;\">\n",
              "\n",
              "  <svg xmlns=\"http://www.w3.org/2000/svg\" height=\"24px\" viewBox=\"0 -960 960 960\">\n",
              "    <path d=\"M120-120v-720h720v720H120Zm60-500h600v-160H180v160Zm220 220h160v-160H400v160Zm0 220h160v-160H400v160ZM180-400h160v-160H180v160Zm440 0h160v-160H620v160ZM180-180h160v-160H180v160Zm440 0h160v-160H620v160Z\"/>\n",
              "  </svg>\n",
              "    </button>\n",
              "\n",
              "  <style>\n",
              "    .colab-df-container {\n",
              "      display:flex;\n",
              "      gap: 12px;\n",
              "    }\n",
              "\n",
              "    .colab-df-convert {\n",
              "      background-color: #E8F0FE;\n",
              "      border: none;\n",
              "      border-radius: 50%;\n",
              "      cursor: pointer;\n",
              "      display: none;\n",
              "      fill: #1967D2;\n",
              "      height: 32px;\n",
              "      padding: 0 0 0 0;\n",
              "      width: 32px;\n",
              "    }\n",
              "\n",
              "    .colab-df-convert:hover {\n",
              "      background-color: #E2EBFA;\n",
              "      box-shadow: 0px 1px 2px rgba(60, 64, 67, 0.3), 0px 1px 3px 1px rgba(60, 64, 67, 0.15);\n",
              "      fill: #174EA6;\n",
              "    }\n",
              "\n",
              "    .colab-df-buttons div {\n",
              "      margin-bottom: 4px;\n",
              "    }\n",
              "\n",
              "    [theme=dark] .colab-df-convert {\n",
              "      background-color: #3B4455;\n",
              "      fill: #D2E3FC;\n",
              "    }\n",
              "\n",
              "    [theme=dark] .colab-df-convert:hover {\n",
              "      background-color: #434B5C;\n",
              "      box-shadow: 0px 1px 3px 1px rgba(0, 0, 0, 0.15);\n",
              "      filter: drop-shadow(0px 1px 2px rgba(0, 0, 0, 0.3));\n",
              "      fill: #FFFFFF;\n",
              "    }\n",
              "  </style>\n",
              "\n",
              "    <script>\n",
              "      const buttonEl =\n",
              "        document.querySelector('#df-5d5e5fbd-32ac-43ad-83be-58b9e9d593b0 button.colab-df-convert');\n",
              "      buttonEl.style.display =\n",
              "        google.colab.kernel.accessAllowed ? 'block' : 'none';\n",
              "\n",
              "      async function convertToInteractive(key) {\n",
              "        const element = document.querySelector('#df-5d5e5fbd-32ac-43ad-83be-58b9e9d593b0');\n",
              "        const dataTable =\n",
              "          await google.colab.kernel.invokeFunction('convertToInteractive',\n",
              "                                                    [key], {});\n",
              "        if (!dataTable) return;\n",
              "\n",
              "        const docLinkHtml = 'Like what you see? Visit the ' +\n",
              "          '<a target=\"_blank\" href=https://colab.research.google.com/notebooks/data_table.ipynb>data table notebook</a>'\n",
              "          + ' to learn more about interactive tables.';\n",
              "        element.innerHTML = '';\n",
              "        dataTable['output_type'] = 'display_data';\n",
              "        await google.colab.output.renderOutput(dataTable, element);\n",
              "        const docLink = document.createElement('div');\n",
              "        docLink.innerHTML = docLinkHtml;\n",
              "        element.appendChild(docLink);\n",
              "      }\n",
              "    </script>\n",
              "  </div>\n",
              "\n",
              "\n",
              "<div id=\"df-04367b37-d329-4b0e-a593-d2362290cd29\">\n",
              "  <button class=\"colab-df-quickchart\" onclick=\"quickchart('df-04367b37-d329-4b0e-a593-d2362290cd29')\"\n",
              "            title=\"Suggest charts\"\n",
              "            style=\"display:none;\">\n",
              "\n",
              "<svg xmlns=\"http://www.w3.org/2000/svg\" height=\"24px\"viewBox=\"0 0 24 24\"\n",
              "     width=\"24px\">\n",
              "    <g>\n",
              "        <path d=\"M19 3H5c-1.1 0-2 .9-2 2v14c0 1.1.9 2 2 2h14c1.1 0 2-.9 2-2V5c0-1.1-.9-2-2-2zM9 17H7v-7h2v7zm4 0h-2V7h2v10zm4 0h-2v-4h2v4z\"/>\n",
              "    </g>\n",
              "</svg>\n",
              "  </button>\n",
              "\n",
              "<style>\n",
              "  .colab-df-quickchart {\n",
              "      --bg-color: #E8F0FE;\n",
              "      --fill-color: #1967D2;\n",
              "      --hover-bg-color: #E2EBFA;\n",
              "      --hover-fill-color: #174EA6;\n",
              "      --disabled-fill-color: #AAA;\n",
              "      --disabled-bg-color: #DDD;\n",
              "  }\n",
              "\n",
              "  [theme=dark] .colab-df-quickchart {\n",
              "      --bg-color: #3B4455;\n",
              "      --fill-color: #D2E3FC;\n",
              "      --hover-bg-color: #434B5C;\n",
              "      --hover-fill-color: #FFFFFF;\n",
              "      --disabled-bg-color: #3B4455;\n",
              "      --disabled-fill-color: #666;\n",
              "  }\n",
              "\n",
              "  .colab-df-quickchart {\n",
              "    background-color: var(--bg-color);\n",
              "    border: none;\n",
              "    border-radius: 50%;\n",
              "    cursor: pointer;\n",
              "    display: none;\n",
              "    fill: var(--fill-color);\n",
              "    height: 32px;\n",
              "    padding: 0;\n",
              "    width: 32px;\n",
              "  }\n",
              "\n",
              "  .colab-df-quickchart:hover {\n",
              "    background-color: var(--hover-bg-color);\n",
              "    box-shadow: 0 1px 2px rgba(60, 64, 67, 0.3), 0 1px 3px 1px rgba(60, 64, 67, 0.15);\n",
              "    fill: var(--button-hover-fill-color);\n",
              "  }\n",
              "\n",
              "  .colab-df-quickchart-complete:disabled,\n",
              "  .colab-df-quickchart-complete:disabled:hover {\n",
              "    background-color: var(--disabled-bg-color);\n",
              "    fill: var(--disabled-fill-color);\n",
              "    box-shadow: none;\n",
              "  }\n",
              "\n",
              "  .colab-df-spinner {\n",
              "    border: 2px solid var(--fill-color);\n",
              "    border-color: transparent;\n",
              "    border-bottom-color: var(--fill-color);\n",
              "    animation:\n",
              "      spin 1s steps(1) infinite;\n",
              "  }\n",
              "\n",
              "  @keyframes spin {\n",
              "    0% {\n",
              "      border-color: transparent;\n",
              "      border-bottom-color: var(--fill-color);\n",
              "      border-left-color: var(--fill-color);\n",
              "    }\n",
              "    20% {\n",
              "      border-color: transparent;\n",
              "      border-left-color: var(--fill-color);\n",
              "      border-top-color: var(--fill-color);\n",
              "    }\n",
              "    30% {\n",
              "      border-color: transparent;\n",
              "      border-left-color: var(--fill-color);\n",
              "      border-top-color: var(--fill-color);\n",
              "      border-right-color: var(--fill-color);\n",
              "    }\n",
              "    40% {\n",
              "      border-color: transparent;\n",
              "      border-right-color: var(--fill-color);\n",
              "      border-top-color: var(--fill-color);\n",
              "    }\n",
              "    60% {\n",
              "      border-color: transparent;\n",
              "      border-right-color: var(--fill-color);\n",
              "    }\n",
              "    80% {\n",
              "      border-color: transparent;\n",
              "      border-right-color: var(--fill-color);\n",
              "      border-bottom-color: var(--fill-color);\n",
              "    }\n",
              "    90% {\n",
              "      border-color: transparent;\n",
              "      border-bottom-color: var(--fill-color);\n",
              "    }\n",
              "  }\n",
              "</style>\n",
              "\n",
              "  <script>\n",
              "    async function quickchart(key) {\n",
              "      const quickchartButtonEl =\n",
              "        document.querySelector('#' + key + ' button');\n",
              "      quickchartButtonEl.disabled = true;  // To prevent multiple clicks.\n",
              "      quickchartButtonEl.classList.add('colab-df-spinner');\n",
              "      try {\n",
              "        const charts = await google.colab.kernel.invokeFunction(\n",
              "            'suggestCharts', [key], {});\n",
              "      } catch (error) {\n",
              "        console.error('Error during call to suggestCharts:', error);\n",
              "      }\n",
              "      quickchartButtonEl.classList.remove('colab-df-spinner');\n",
              "      quickchartButtonEl.classList.add('colab-df-quickchart-complete');\n",
              "    }\n",
              "    (() => {\n",
              "      let quickchartButtonEl =\n",
              "        document.querySelector('#df-04367b37-d329-4b0e-a593-d2362290cd29 button');\n",
              "      quickchartButtonEl.style.display =\n",
              "        google.colab.kernel.accessAllowed ? 'block' : 'none';\n",
              "    })();\n",
              "  </script>\n",
              "</div>\n",
              "\n",
              "    </div>\n",
              "  </div>\n"
            ],
            "application/vnd.google.colaboratory.intrinsic+json": {
              "type": "dataframe",
              "summary": "{\n  \"name\": \"data_df[['last', 'numords', 'totdol', 'R_quintile', 'F_quintile', 'M_quintile']]\",\n  \"rows\": 5,\n  \"fields\": [\n    {\n      \"column\": \"last\",\n      \"properties\": {\n        \"dtype\": \"number\",\n        \"std\": 303,\n        \"min\": 28,\n        \"max\": 778,\n        \"num_unique_values\": 5,\n        \"samples\": [\n          625,\n          396,\n          28\n        ],\n        \"semantic_type\": \"\",\n        \"description\": \"\"\n      }\n    },\n    {\n      \"column\": \"numords\",\n      \"properties\": {\n        \"dtype\": \"number\",\n        \"std\": 1,\n        \"min\": 2,\n        \"max\": 7,\n        \"num_unique_values\": 4,\n        \"samples\": [\n          4,\n          2,\n          7\n        ],\n        \"semantic_type\": \"\",\n        \"description\": \"\"\n      }\n    },\n    {\n      \"column\": \"totdol\",\n      \"properties\": {\n        \"dtype\": \"number\",\n        \"std\": 139,\n        \"min\": 148,\n        \"max\": 493,\n        \"num_unique_values\": 5,\n        \"samples\": [\n          423,\n          148,\n          246\n        ],\n        \"semantic_type\": \"\",\n        \"description\": \"\"\n      }\n    },\n    {\n      \"column\": \"R_quintile\",\n      \"properties\": {\n        \"dtype\": \"category\",\n        \"num_unique_values\": 5,\n        \"samples\": [\n          4,\n          3,\n          1\n        ],\n        \"semantic_type\": \"\",\n        \"description\": \"\"\n      }\n    },\n    {\n      \"column\": \"F_quintile\",\n      \"properties\": {\n        \"dtype\": \"category\",\n        \"num_unique_values\": 4,\n        \"samples\": [\n          3,\n          1,\n          4\n        ],\n        \"semantic_type\": \"\",\n        \"description\": \"\"\n      }\n    },\n    {\n      \"column\": \"M_quintile\",\n      \"properties\": {\n        \"dtype\": \"category\",\n        \"num_unique_values\": 3,\n        \"samples\": [\n          5,\n          4,\n          3\n        ],\n        \"semantic_type\": \"\",\n        \"description\": \"\"\n      }\n    }\n  ]\n}"
            }
          },
          "metadata": {},
          "execution_count": 92
        }
      ]
    },
    {
      "cell_type": "markdown",
      "source": [
        " the averages of R, F, and M for each quintile in a bar chart"
      ],
      "metadata": {
        "id": "5If2hzYMmxmO"
      }
    },
    {
      "cell_type": "code",
      "source": [
        "avg_recency = data_df.groupby('R_quintile')['last'].mean()\n",
        "avg_frequency = data_df.groupby('F_quintile')['numords'].mean()\n",
        "avg_monetary = data_df.groupby('M_quintile')['totdol'].mean()"
      ],
      "metadata": {
        "id": "B0t_O_e0mELQ"
      },
      "execution_count": 85,
      "outputs": []
    },
    {
      "cell_type": "code",
      "source": [
        "plt.figure(figsize=(15, 5))\n",
        "\n",
        "plt.subplot(1, 3, 1)\n",
        "avg_recency.plot(kind='bar')\n",
        "plt.title('Average Recency by Quintile')\n",
        "plt.xlabel('Recency Quintile')\n",
        "plt.ylabel('Average Recency')\n",
        "\n",
        "plt.subplot(1, 3, 2)\n",
        "avg_frequency.plot(kind='bar')\n",
        "plt.title('Average Frequency by Quintile')\n",
        "plt.xlabel('Frequency Quintile')\n",
        "plt.ylabel('Average Frequency')\n",
        "\n",
        "plt.subplot(1, 3, 3)\n",
        "avg_monetary.plot(kind='bar')\n",
        "plt.title('Average Monetary Value by Quintile')\n",
        "plt.xlabel('Monetary Value Quintile')\n",
        "plt.ylabel('Average Monetary Value')\n",
        "\n",
        "plt.tight_layout()\n",
        "plt.show()"
      ],
      "metadata": {
        "colab": {
          "base_uri": "https://localhost:8080/",
          "height": 361
        },
        "id": "8cdKSLH0o2_e",
        "outputId": "b4616ede-583e-4b45-a1a0-d16d6b7d2d4f"
      },
      "execution_count": 86,
      "outputs": [
        {
          "output_type": "display_data",
          "data": {
            "text/plain": [
              "<Figure size 1500x500 with 3 Axes>"
            ],
            "image/png": "[encoded data removed]"
          },
          "metadata": {}
        }
      ]
    },
    {
      "cell_type": "markdown",
      "source": [
        "response probability varies by R, F, and M quintiles"
      ],
      "metadata": {
        "id": "QQ7TDGRIqpQr"
      }
    },
    {
      "cell_type": "code",
      "source": [
        "# Calculate response probability by quintiles\n",
        "response_by_r = data_df.groupby('R_quintile')['buyerdummy'].mean()\n",
        "response_by_f = data_df.groupby('F_quintile')['buyerdummy'].mean()\n",
        "response_by_m = data_df.groupby('M_quintile')['buyerdummy'].mean()\n",
        "\n",
        "# Plotting response probabilities\n",
        "plt.figure(figsize=(15, 5))\n",
        "\n",
        "plt.subplot(1, 3, 1)\n",
        "response_by_r.plot(kind='bar')\n",
        "plt.title('Response Probability by Recency Quintile')\n",
        "plt.xlabel('Recency Quintile')\n",
        "plt.ylabel('Response Probability')\n",
        "\n",
        "plt.subplot(1, 3, 2)\n",
        "response_by_f.plot(kind='bar')\n",
        "plt.title('Response Probability by Frequency Quintile')\n",
        "plt.xlabel('Frequency Quintile')\n",
        "plt.ylabel('Response Probability')\n",
        "\n",
        "plt.subplot(1, 3, 3)\n",
        "response_by_m.plot(kind='bar')\n",
        "plt.title('Response Probability by Monetary Quintile')\n",
        "plt.xlabel('Monetary Quintile')\n",
        "plt.ylabel('Response Probability')\n",
        "\n",
        "plt.tight_layout()\n",
        "plt.show()\n"
      ],
      "metadata": {
        "colab": {
          "base_uri": "https://localhost:8080/",
          "height": 361
        },
        "id": "tMS9i3YzqovK",
        "outputId": "0c8e3609-bd97-4a8f-cd19-355c6e27565d"
      },
      "execution_count": 87,
      "outputs": [
        {
          "output_type": "display_data",
          "data": {
            "text/plain": [
              "<Figure size 1500x500 with 3 Axes>"
            ],
            "image/png": "[encoded data removed]"
          },
          "metadata": {}
        }
      ]
    },
    {
      "cell_type": "markdown",
      "source": [
        "**RFM Score**"
      ],
      "metadata": {
        "id": "P9a4qWqPNg7I"
      }
    },
    {
      "cell_type": "code",
      "source": [
        "data_df['R_quintile'] = pd.qcut(data_df['last'], 5, labels=[1,2,3,4,5], duplicates='drop')\n",
        "data_df['F_quintile'] = pd.qcut(data_df['numords'], 5, labels=[1, 2, 3, 4], duplicates='drop')\n",
        "data_df['M_quintile'] = pd.qcut(data_df['totdol'], 5, labels=[1, 2, 3, 4, 5],duplicates='drop')\n",
        "data_df['RFM_Score'] = data_df['R_quintile'].astype(str) + data_df['F_quintile'].astype(str) + data_df['M_quintile'].astype(str)\n",
        "rfm_score = data_df.groupby('RFM_Score').agg(\n",
        "   mean_buyers =('buyerdummy', 'mean'),\n",
        "    number_of_buyers=('buyerdummy', 'sum')\n",
        ").reset_index()\n",
        "\n",
        "rfm_score = rfm_score.sort_values(by='RFM_Score')\n",
        "\n",
        "print(rfm_score.head())"
      ],
      "metadata": {
        "colab": {
          "base_uri": "https://localhost:8080/"
        },
        "id": "XiG0s4GDBg_P",
        "outputId": "0cf2fd29-02b2-4895-8d61-be9cb3caf844"
      },
      "execution_count": 172,
      "outputs": [
        {
          "output_type": "stream",
          "name": "stdout",
          "text": [
            "  RFM_Score  mean_buyers  number_of_buyers\n",
            "0       111     0.028072                69\n",
            "1       112     0.027975                63\n",
            "2       113     0.025907                45\n",
            "3       114     0.028153                25\n",
            "4       115     0.022059                 3\n"
          ]
        }
      ]
    },
    {
      "cell_type": "code",
      "source": [
        "# Plot the response rate by sequential RFM cell\n",
        "plt.figure(figsize=(14, 7))\n",
        "plt.bar(rfm_score['RFM_Score'], rfm_score['mean_buyers'], color='red', edgecolor='black')\n",
        "plt.title('Response Rate by Sequential RFM Cell')\n",
        "plt.xlabel('RFM Cell')\n",
        "plt.ylabel('Mean of Buyers')\n",
        "plt.xticks(rotation=90)\n",
        "plt.grid(axis='y')\n",
        "\n",
        "# Adjust layout to make room for xticks\n",
        "plt.tight_layout()\n",
        "\n",
        "# Show the plot\n",
        "plt.show()\n",
        "\n",
        "# Plot the number of buyers by sequential RFM cell\n",
        "plt.figure(figsize=(14, 7))\n",
        "plt.bar(rfm_score['RFM_Score'], rfm_score['number_of_buyers'], color='blue', edgecolor='black')\n",
        "plt.title('Number of Buyers by Sequential RFM Cell')\n",
        "plt.xlabel('RFM Cell')\n",
        "plt.ylabel('Number of Buyers')\n",
        "plt.xticks(rotation=90)\n",
        "plt.grid(axis='y')\n",
        "\n",
        "# Adjust layout to make room for xticks\n",
        "plt.tight_layout()\n",
        "\n",
        "# Show the plot\n",
        "plt.show()"
      ],
      "metadata": {
        "colab": {
          "base_uri": "https://localhost:8080/",
          "height": 1000
        },
        "id": "2ZtRp92RMOZD",
        "outputId": "02892b1a-7be6-4734-c0b6-9115bf4e1c9b"
      },
      "execution_count": 175,
      "outputs": [
        {
          "output_type": "display_data",
          "data": {
            "text/plain": [
              "<Figure size 1400x700 with 1 Axes>"
            ],
            "image/png": "[encoded data removed]"
          },
          "metadata": {}
        },
        {
          "output_type": "display_data",
          "data": {
            "text/plain": [
              "<Figure size 1400x700 with 1 Axes>"
            ],
            "image/png": "[encoded data removed]"
          },
          "metadata": {}
        }
      ]
    },
    {
      "cell_type": "markdown",
      "source": [
        " Calculate the Profitability of a Mass-Marketing Strategy"
      ],
      "metadata": {
        "id": "YyxjFRYPu235"
      }
    },
    {
      "cell_type": "code",
      "source": [
        "# Given values\n",
        "total_customers = 1834469\n",
        "cost_per_mailing = 1\n",
        "cost_of_goods_and_services = 0.5  # 50% of revenue\n",
        "average_revenue_per_customer = purchase_df['dollars'].mean()\n"
      ],
      "metadata": {
        "id": "xyePCJ6Zo4qv"
      },
      "execution_count": 78,
      "outputs": []
    },
    {
      "cell_type": "code",
      "source": [
        "print(f\"average_revenue_per_customer: {average_revenue_per_customer:.2f}\")\n",
        "print(len(data_df))"
      ],
      "metadata": {
        "colab": {
          "base_uri": "https://localhost:8080/"
        },
        "id": "Ts42ywRQwJqj",
        "outputId": "a7c36984-a72e-44ad-ceca-34626ef5d3e8"
      },
      "execution_count": 150,
      "outputs": [
        {
          "output_type": "stream",
          "name": "stdout",
          "text": [
            "average_revenue_per_customer: 104.24\n",
            "96551\n"
          ]
        }
      ]
    },
    {
      "cell_type": "code",
      "source": [
        "expected_buyers = total_customers*percenatge_purchase/100\n",
        "\n",
        "# Total revenue and cost\n",
        "total_revenue = expected_buyers * average_revenue_per_customer\n",
        "costgs= cost_of_goods_and_services*total_revenue\n",
        "total_cost = (total_customers * cost_per_mailing) +costgs\n",
        "net_profit = total_revenue - total_cost\n",
        "\n",
        "print(f\"Expected Buyers: {expected_buyers}\")\n",
        "print(f\"Total Revenue: ${total_revenue}\")\n",
        "print(f\"Net Profit: ${net_profit}\")"
      ],
      "metadata": {
        "colab": {
          "base_uri": "https://localhost:8080/"
        },
        "id": "YbCofzK8vKXU",
        "outputId": "87329f66-d395-4688-aa84-05701037e269"
      },
      "execution_count": 147,
      "outputs": [
        {
          "output_type": "stream",
          "name": "stdout",
          "text": [
            "Expected Buyers: 45049.0\n",
            "Total Revenue: $4696040.0\n",
            "Net Profit: $513551.0\n"
          ]
        }
      ]
    },
    {
      "cell_type": "code",
      "source": [
        "break_even_response_rate = cost_per_mailing / (average_revenue_per_customer - cost_of_goods_and_services * average_revenue_per_customer)*100\n",
        "print(f\"Break-even Response Rate: {break_even_response_rate:.2f}\")"
      ],
      "metadata": {
        "colab": {
          "base_uri": "https://localhost:8080/"
        },
        "id": "LBnqrPz9vyP3",
        "outputId": "4630685f-b7d0-44d2-c5c7-b0216f33106a"
      },
      "execution_count": 165,
      "outputs": [
        {
          "output_type": "stream",
          "name": "stdout",
          "text": [
            "Break-even Response Rate: 1.92\n"
          ]
        }
      ]
    },
    {
      "cell_type": "code",
      "source": [
        "break_even = cost_per_mailing / (average_revenue_per_customer - cost_of_goods_and_services * average_revenue_per_customer)\n",
        "print(break_even)"
      ],
      "metadata": {
        "colab": {
          "base_uri": "https://localhost:8080/"
        },
        "id": "x-Yr9o9gX16Y",
        "outputId": "c1bcd763-c408-46fd-c311-4d0991e69311"
      },
      "execution_count": 166,
      "outputs": [
        {
          "output_type": "stream",
          "name": "stdout",
          "text": [
            "0.019185952419485355\n"
          ]
        }
      ]
    },
    {
      "cell_type": "code",
      "source": [
        "data_df['R_quintile'] = pd.qcut(data_df['last'], 5, labels=[1,2,3,4,5], duplicates='drop')\n",
        "data_df['F_quintile'] = pd.qcut(data_df['numords'], 5, labels=[1, 2, 3, 4], duplicates = 'drop')\n",
        "data_df['M_quintile'] = pd.qcut(data_df['totdol'], 5, labels=[1, 2, 3, 4, 5], duplicates='drop')\n",
        "data_df['RFM_Score'] = data_df['R_quintile'].astype(str) + data_df['F_quintile'].astype(str) + data_df['M_quintile'].astype(str)\n",
        "\n",
        "# Calculate the number of customers, number of buyers, and total profitability for each RFM cell\n",
        "rfm_counts = data_df.groupby('RFM_Score').agg(\n",
        "    num_customers=('buyerdummy', 'size'),\n",
        "    num_buyers=('buyerdummy', 'sum'),\n",
        "    total_profitability=('dollars', 'sum')\n",
        ").reset_index()\n",
        "\n",
        "# Sort RFM scores for plotting\n",
        "rfm_counts = rfm_counts.sort_values(by='RFM_Score')\n",
        "\n",
        "top_segments = rfm_counts.sort_values(by='total_profitability', ascending=False).head(10)\n",
        "print(\"\\nTop Customer Segments Based on Total Profitability:\")\n",
        "print(top_segments)\n"
      ],
      "metadata": {
        "colab": {
          "base_uri": "https://localhost:8080/"
        },
        "id": "FsxblnyjVT0M",
        "outputId": "16f652c4-370c-4069-ce11-c659c3e4d35e"
      },
      "execution_count": 161,
      "outputs": [
        {
          "output_type": "stream",
          "name": "stdout",
          "text": [
            "\n",
            "Top Customer Segments Based on Total Profitability:\n",
            "   RFM_Score  num_customers  num_buyers  total_profitability\n",
            "19       145           5308         328                40942\n",
            "38       245           3501         175                18584\n",
            "58       345           2208          78                 8909\n",
            "21       212           2689          57                 7021\n",
            "40       312           3481          52                 6822\n",
            "39       311           4366          67                 6608\n",
            "1        112           2252          63                 6186\n",
            "81       513           3188          46                 5966\n",
            "59       411           4754          67                 5842\n",
            "20       211           3518          63                 5806\n"
          ]
        }
      ]
    },
    {
      "cell_type": "code",
      "source": [
        "plt.figure(figsize=(14, 7))\n",
        "plt.bar(rfm_counts['RFM_Score'], rfm_counts['total_profitability'], color='purple', edgecolor='black')\n",
        "plt.title('Total Profitability by Sequential RFM Cell')\n",
        "plt.xlabel('RFM Cell')\n",
        "plt.ylabel('Total Profitability')\n",
        "plt.xticks(rotation=90)\n",
        "plt.grid(axis='y')\n",
        "\n",
        "# # Highlight top customer segments\n",
        "# for index, row in target_segments.iterrows():\n",
        "#     plt.text(row['RFM_Score'], row['total_profitability'] + 100, str(row['total_profitability']), ha='center', color='black', fontweight='bold')\n",
        "\n",
        "# Adjust layout to make room for xticks\n",
        "plt.tight_layout()\n",
        "\n",
        "# Show the plot\n",
        "plt.show()"
      ],
      "metadata": {
        "colab": {
          "base_uri": "https://localhost:8080/",
          "height": 536
        },
        "id": "S5SC98C_aEkr",
        "outputId": "e332908f-0861-46a0-a1fb-a1e804df034c"
      },
      "execution_count": 169,
      "outputs": [
        {
          "output_type": "display_data",
          "data": {
            "text/plain": [
              "<Figure size 1400x700 with 1 Axes>"
            ],
            "image/png": "[encoded data removed]"
          },
          "metadata": {}
        }
      ]
    },
    {
      "cell_type": "code",
      "source": [
        "target_segments = rfm_counts[rfm_counts['num_buyers'] / rfm_counts['num_customers'] >= break_even]\n",
        "print(rfm_counts['num_buyers'] / rfm_counts['num_customers'])\n",
        "optimum_fraction = target_segments['num_customers'].sum() / total_customers\n",
        "expected_response_rate = target_segments['num_buyers'].sum() / target_segments['num_customers'].sum()\n",
        "expected_profit = target_segments['total_profitability'].sum() - (target_segments['num_customers'].sum() * 1) - (0.5 * target_segments['total_profitability'].sum())\n",
        "roi_rfm = (expected_profit / (target_segments['num_customers'].sum() * 1)) * 100\n",
        "\n",
        "print(f\"\\nOptimum fraction of the market to target: {optimum_fraction:.2f}\")\n",
        "print(f\"Expected response rate: {expected_response_rate:.2f}\")\n",
        "print(f\"Expected net profit: ${expected_profit:.2f}\")\n",
        "print(f\"ROI : {roi_rfm:.2f}%\")"
      ],
      "metadata": {
        "colab": {
          "base_uri": "https://localhost:8080/"
        },
        "id": "FmuuAFQTV-rC",
        "outputId": "5741667b-b446-4dba-a2be-53b871c01cbb"
      },
      "execution_count": 167,
      "outputs": [
        {
          "output_type": "stream",
          "name": "stdout",
          "text": [
            "0     0.028072\n",
            "1     0.027975\n",
            "2     0.025907\n",
            "3     0.028153\n",
            "4     0.022059\n",
            "        ...   \n",
            "93    0.024096\n",
            "94    0.050000\n",
            "95    0.006757\n",
            "96    0.028668\n",
            "97    0.022238\n",
            "Length: 98, dtype: float64\n",
            "\n",
            "Optimum fraction of the market to target: 0.03\n",
            "Expected response rate: 0.03\n",
            "Expected net profit: $38163.50\n",
            "ROI of marketing expenditure: 80.07%\n"
          ]
        }
      ]
    },
    {
      "cell_type": "code",
      "source": [
        "# Using the RFM approach to calculate optimal targeting\n",
        "# Filter customers who meet the break-even response rate criteria\n",
        "profitable_customers = data_df[data_df['buyerdummy'] > break_even]\n",
        "\n",
        "# Calculate the optimal fraction of the market to target\n",
        "optimal_fraction = len(profitable_customers) / total_customers\n",
        "\n",
        "# Expected response rate, net profit, and ROI\n",
        "expected_response_rate = profitable_customers['buyerdummy'].mean()\n",
        "net_profit_rfm = (expected_response_rate * total_customers * average_revenue_per_customer) - (optimal_fraction * total_customers * cost_per_mailing)\n",
        "roi_rfm = net_profit_rfm / (optimal_fraction * total_customers * cost_per_mailing)\n",
        "\n",
        "print(f\"Optimal Fraction to Target: {optimal_fraction:.2%}\")\n",
        "print(f\"Expected Response Rate: {expected_response_rate:.2%}\")\n",
        "print(f\"Net Profit using RFM: ${net_profit_rfm:.2f}\")\n",
        "print(f\"ROI using RFM: {roi_rfm:.2%}\")\n"
      ],
      "metadata": {
        "colab": {
          "base_uri": "https://localhost:8080/"
        },
        "id": "hoU3VAP3v-Rh",
        "outputId": "5f205d6e-0de7-4e3e-81a6-744e19c89170"
      },
      "execution_count": 83,
      "outputs": [
        {
          "output_type": "stream",
          "name": "stdout",
          "text": [
            "Optimal Fraction to Target: 0.13%\n",
            "Expected Response Rate: 100.00%\n",
            "Net Profit using RFM: $191228062.59\n",
            "ROI using RFM: 8065291.55%\n"
          ]
        }
      ]
    },
    {
      "cell_type": "markdown",
      "source": [
        "The RFM approach yields more profit and ROI than the mass-marketing approach because it targets customers who are more likely to respond positively, thus reducing the cost of mailing to uninterested customers and increasing the efficiency of marketing spend.\n"
      ],
      "metadata": {
        "id": "6c45HV7obJaF"
      }
    },
    {
      "cell_type": "code",
      "source": [],
      "metadata": {
        "id": "r3TGn7rxwoVI"
      },
      "execution_count": null,
      "outputs": []
    }
  ]
}